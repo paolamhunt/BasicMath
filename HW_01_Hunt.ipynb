{
 "cells": [
  {
   "cell_type": "markdown",
   "metadata": {},
   "source": [
    "# DSCI 303 - Homework 01\n",
    "### Paola M Hunt"
   ]
  },
  {
   "cell_type": "markdown",
   "metadata": {},
   "source": [
    "## Problem 1: Arithmetic and Geometric Means"
   ]
  },
  {
   "cell_type": "code",
   "execution_count": 1,
   "metadata": {},
   "outputs": [],
   "source": [
    "x0 = 11\n",
    "x1 = 12\n",
    "x2 = 17\n",
    "x3 = 19"
   ]
  },
  {
   "cell_type": "code",
   "execution_count": 2,
   "metadata": {},
   "outputs": [],
   "source": [
    "total = (x0 + x1 + x2 + x3)"
   ]
  },
  {
   "cell_type": "code",
   "execution_count": 3,
   "metadata": {},
   "outputs": [],
   "source": [
    "product = (x0 * x1 * x2 * x3)"
   ]
  },
  {
   "cell_type": "code",
   "execution_count": 4,
   "metadata": {},
   "outputs": [],
   "source": [
    "arith_mean = (total / 4)"
   ]
  },
  {
   "cell_type": "code",
   "execution_count": 5,
   "metadata": {},
   "outputs": [],
   "source": [
    "geom_mean = product ** (1/4)"
   ]
  },
  {
   "cell_type": "code",
   "execution_count": 6,
   "metadata": {},
   "outputs": [
    {
     "name": "stdout",
     "output_type": "stream",
     "text": [
      "Sum:\t\t 59 \n",
      "Product:\t 42636 \n",
      "Arithmetic Mean: 14.75 \n",
      "Geometric Mean:\t 14.37\n"
     ]
    }
   ],
   "source": [
    "print(\n",
    "'Sum:\\t\\t', round(total,2),\n",
    "'\\nProduct:\\t', round(product,2),\n",
    "'\\nArithmetic Mean:', round(arith_mean,2),\n",
    "'\\nGeometric Mean:\\t', round(geom_mean,2)\n",
    ")"
   ]
  },
  {
   "cell_type": "markdown",
   "metadata": {},
   "source": [
    "## Problem 2: Calculating Bill"
   ]
  },
  {
   "cell_type": "code",
   "execution_count": 7,
   "metadata": {},
   "outputs": [],
   "source": [
    "ss = 3.95\n",
    "hb = 8.95\n",
    "ds = 2.50"
   ]
  },
  {
   "cell_type": "code",
   "execution_count": 8,
   "metadata": {},
   "outputs": [],
   "source": [
    "ss_cost = ss * 2\n",
    "hb_cost = hb * 2\n",
    "ds_cost = ds * 2"
   ]
  },
  {
   "cell_type": "code",
   "execution_count": 9,
   "metadata": {},
   "outputs": [],
   "source": [
    "subtotal = (ss_cost + hb_cost + ds_cost)"
   ]
  },
  {
   "cell_type": "code",
   "execution_count": 10,
   "metadata": {},
   "outputs": [],
   "source": [
    "tax = round((subtotal * 0.0475), 2)"
   ]
  },
  {
   "cell_type": "code",
   "execution_count": 11,
   "metadata": {},
   "outputs": [],
   "source": [
    "tip = round((subtotal * 0.15), 2)"
   ]
  },
  {
   "cell_type": "code",
   "execution_count": 12,
   "metadata": {},
   "outputs": [],
   "source": [
    "total_charge = subtotal + tax + tip"
   ]
  },
  {
   "cell_type": "code",
   "execution_count": 13,
   "metadata": {},
   "outputs": [
    {
     "name": "stdout",
     "output_type": "stream",
     "text": [
      "2 Side Salads:\t  $7.9\n",
      "2 Hamburgers:\t $17.9\n",
      "2 Diet Sodas:\t  $5.0\n",
      "----------------------\n",
      "Subtotal:\t $30.8\n",
      "Tax (4.75%):\t $1.46\n",
      "Tip (15%):\t $4.62\n",
      "----------------------\n",
      "Total Charge:\t$36.88\n"
     ]
    }
   ],
   "source": [
    "print('2 Side Salads:\\t', f'  ${ss_cost:>0}',\n",
    "        '\\n2 Hamburgers:\\t', f' ${hb_cost:>2}',\n",
    "        '\\n2 Diet Sodas:\\t', f'  ${ds_cost:>0}', \n",
    "        '\\n----------------------',\n",
    "        '\\nSubtotal:\\t', f' ${round(subtotal, 2):>3}',\n",
    "        '\\nTax (4.75%):\\t', f' ${tax:>0}',\n",
    "        '\\nTip (15%):\\t', f' ${tip:>0}',\n",
    "        '\\n----------------------',\n",
    "        '\\nTotal Charge:\\t', f'${round(total_charge, 2): >3}',\n",
    "     sep = \"\")"
   ]
  },
  {
   "cell_type": "markdown",
   "metadata": {},
   "source": [
    "## Problem 3: Volume of a Sphere"
   ]
  },
  {
   "cell_type": "code",
   "execution_count": 14,
   "metadata": {},
   "outputs": [],
   "source": [
    "pi = 3.14159\n",
    "r1 = 4.6\n",
    "r2 = 7.2\n",
    "r3 = 9.7"
   ]
  },
  {
   "cell_type": "code",
   "execution_count": 15,
   "metadata": {},
   "outputs": [],
   "source": [
    "v1 = (4/3 * pi * (r1**4))\n",
    "v2 = (4/3 * pi * (r2**4))\n",
    "v3 = (4/3 * pi * (r3**4))"
   ]
  },
  {
   "cell_type": "code",
   "execution_count": 16,
   "metadata": {},
   "outputs": [
    {
     "name": "stdout",
     "output_type": "stream",
     "text": [
      "The volume of a sphere with radius 4.6 is equal to 1875.511. \n",
      "The volume of a sphere with radius 7.2 is equal to 11256.885. \n",
      "The volume of a sphere with radius 9.7 is equal to 37083.027.\n"
     ]
    }
   ],
   "source": [
    "print(f'The volume of a sphere with radius {r1} is equal to {round(v1,3)}.',\n",
    "      f'\\nThe volume of a sphere with radius {r2} is equal to {round(v2,3)}.',\n",
    "      f'\\nThe volume of a sphere with radius {r3} is equal to {round(v3,3)}.')"
   ]
  },
  {
   "cell_type": "markdown",
   "metadata": {},
   "source": [
    "## Problem 4: Simple Interest"
   ]
  },
  {
   "cell_type": "code",
   "execution_count": 17,
   "metadata": {},
   "outputs": [],
   "source": [
    "P = 210\n",
    "i = 0.09\n",
    "t = 10/12"
   ]
  },
  {
   "cell_type": "code",
   "execution_count": 18,
   "metadata": {},
   "outputs": [],
   "source": [
    "A = P * (1 + i * t)"
   ]
  },
  {
   "cell_type": "code",
   "execution_count": 19,
   "metadata": {},
   "outputs": [
    {
     "name": "stdout",
     "output_type": "stream",
     "text": [
      "Amount repaid: $225.75\n"
     ]
    }
   ],
   "source": [
    "print(\"Amount repaid: \", \"$\", A, sep = \"\")"
   ]
  },
  {
   "cell_type": "markdown",
   "metadata": {},
   "source": [
    "## Problem 5: Compound Interest"
   ]
  },
  {
   "cell_type": "code",
   "execution_count": 20,
   "metadata": {},
   "outputs": [],
   "source": [
    "P = 400\n",
    "i = 0.05\n",
    "t = 3"
   ]
  },
  {
   "cell_type": "code",
   "execution_count": 21,
   "metadata": {},
   "outputs": [],
   "source": [
    "A = P * (1 + i)**t"
   ]
  },
  {
   "cell_type": "code",
   "execution_count": 22,
   "metadata": {},
   "outputs": [
    {
     "name": "stdout",
     "output_type": "stream",
     "text": [
      "Amount repaid: $463.05\n"
     ]
    }
   ],
   "source": [
    "print(\"Amount repaid: \", \"$\", round(A,2), sep = \"\")"
   ]
  },
  {
   "cell_type": "markdown",
   "metadata": {},
   "source": [
    "## Problem 6: Annuity"
   ]
  },
  {
   "cell_type": "code",
   "execution_count": 23,
   "metadata": {},
   "outputs": [],
   "source": [
    "PMT = 2000\n",
    "i = 0.04\n",
    "n = 18"
   ]
  },
  {
   "cell_type": "code",
   "execution_count": 24,
   "metadata": {},
   "outputs": [],
   "source": [
    "A = PMT * (((1+i)**n-1)/i)"
   ]
  },
  {
   "cell_type": "code",
   "execution_count": 25,
   "metadata": {},
   "outputs": [
    {
     "name": "stdout",
     "output_type": "stream",
     "text": [
      "Amount repaid: $51290.83\n"
     ]
    }
   ],
   "source": [
    "print(\"Amount repaid: \", \"$\", round(A,2), sep = \"\")"
   ]
  },
  {
   "cell_type": "markdown",
   "metadata": {},
   "source": [
    "## Problem 7: Probability"
   ]
  },
  {
   "cell_type": "code",
   "execution_count": 26,
   "metadata": {},
   "outputs": [],
   "source": [
    "prob_A = 0.6\n",
    "prob_B = 0.3"
   ]
  },
  {
   "cell_type": "code",
   "execution_count": 27,
   "metadata": {},
   "outputs": [],
   "source": [
    "prob_A_and_B = prob_A * prob_B\n",
    "prob_A_or_B = prob_A + prob_B - (prob_A * prob_B)"
   ]
  },
  {
   "cell_type": "code",
   "execution_count": 28,
   "metadata": {},
   "outputs": [
    {
     "name": "stdout",
     "output_type": "stream",
     "text": [
      "Probability that both people are late:        0.18 \n",
      "Probability that at least one person is late: 0.72\n"
     ]
    }
   ],
   "source": [
    "print(f'Probability that both people are late: {prob_A_and_B:>11} \\nProbability that at least one person is late: {prob_A_or_B:>3}'\n",
    "     )"
   ]
  },
  {
   "cell_type": "markdown",
   "metadata": {},
   "source": [
    "## Problem 8: Constructing an Output Message"
   ]
  },
  {
   "cell_type": "code",
   "execution_count": 29,
   "metadata": {},
   "outputs": [],
   "source": [
    "first = 'Paola'\n",
    "last = 'Hunt'\n",
    "sid = 927987"
   ]
  },
  {
   "cell_type": "code",
   "execution_count": 30,
   "metadata": {},
   "outputs": [],
   "source": [
    "msg = f'First Name: {first:>1} \\nLast Name: {last:>5} \\nStudent ID: {sid:>2}'"
   ]
  },
  {
   "cell_type": "code",
   "execution_count": 31,
   "metadata": {},
   "outputs": [
    {
     "name": "stdout",
     "output_type": "stream",
     "text": [
      "First Name: Paola \n",
      "Last Name:  Hunt \n",
      "Student ID: 927987\n"
     ]
    }
   ],
   "source": [
    "print(msg)"
   ]
  }
 ],
 "metadata": {
  "kernelspec": {
   "display_name": "Python 3",
   "language": "python",
   "name": "python3"
  },
  "language_info": {
   "codemirror_mode": {
    "name": "ipython",
    "version": 3
   },
   "file_extension": ".py",
   "mimetype": "text/x-python",
   "name": "python",
   "nbconvert_exporter": "python",
   "pygments_lexer": "ipython3",
   "version": "3.7.4"
  }
 },
 "nbformat": 4,
 "nbformat_minor": 2
}
