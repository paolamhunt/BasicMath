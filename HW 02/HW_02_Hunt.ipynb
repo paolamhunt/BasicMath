{
 "cells": [
  {
   "cell_type": "markdown",
   "metadata": {},
   "source": [
    "## Homework 02\n",
    "### Paola M Hunt"
   ]
  },
  {
   "cell_type": "markdown",
   "metadata": {},
   "source": [
    "## Problem 1: Altering Lists"
   ]
  },
  {
   "cell_type": "markdown",
   "metadata": {},
   "source": [
    "In this problem, I created and updated lists containing information about employees within a particular department at a company."
   ]
  },
  {
   "cell_type": "code",
   "execution_count": 1,
   "metadata": {},
   "outputs": [],
   "source": [
    "# Create two lists\n",
    "# one should include employee names\n",
    "# the other years of service for each employee\n",
    "\n",
    "employees =['Beth','Fred','Drew','Alex','Emma','Chad']\n",
    "years = [15,11,8,5,4,2]"
   ]
  },
  {
   "cell_type": "code",
   "execution_count": 2,
   "metadata": {},
   "outputs": [],
   "source": [
    "# Add new members in descending order\n",
    "\n",
    "employees.insert(1,'Gina')\n",
    "employees.insert(6,'Herb')\n",
    "employees.append('Iris')\n",
    "\n",
    "years.insert(1, 12)\n",
    "years.insert(6, 3)\n",
    "years.append(0)\n"
   ]
  },
  {
   "cell_type": "code",
   "execution_count": 3,
   "metadata": {
    "scrolled": true
   },
   "outputs": [
    {
     "name": "stdout",
     "output_type": "stream",
     "text": [
      "['Beth', 'Gina', 'Fred', 'Drew', 'Alex', 'Emma', 'Herb', 'Chad', 'Iris']\n",
      "[15, 12, 11, 8, 5, 4, 3, 2, 0]\n"
     ]
    }
   ],
   "source": [
    "print(employees)\n",
    "print(years)"
   ]
  },
  {
   "cell_type": "code",
   "execution_count": 4,
   "metadata": {},
   "outputs": [],
   "source": [
    "# update lists by deleting employees who have departed company\n",
    "# update lists by by modifying employee information who has been promoted\n",
    "\n",
    "del employees[2]\n",
    "del years [2]\n",
    "\n",
    "employees[3] = \"Emma\"\n",
    "employees[4] = 'Alex'\n",
    "\n",
    "years[3] = 6\n",
    "years[4] = 5"
   ]
  },
  {
   "cell_type": "code",
   "execution_count": 5,
   "metadata": {},
   "outputs": [
    {
     "name": "stdout",
     "output_type": "stream",
     "text": [
      "['Beth', 'Gina', 'Drew', 'Emma', 'Alex', 'Herb', 'Chad', 'Iris']\n",
      "[15, 12, 8, 6, 5, 3, 2, 0]\n"
     ]
    }
   ],
   "source": [
    "print(employees, '\\n', years, sep ='')"
   ]
  },
  {
   "cell_type": "markdown",
   "metadata": {},
   "source": [
    "## Problem 2: Sorting and Slicing Lists"
   ]
  },
  {
   "cell_type": "markdown",
   "metadata": {},
   "source": [
    "In this problem, I practiced sorting and slicing lists, and with using list functions such as max() and min()."
   ]
  },
  {
   "cell_type": "code",
   "execution_count": 6,
   "metadata": {},
   "outputs": [],
   "source": [
    "# create radon list that contains random generated integers\n",
    "\n",
    "import random\n",
    "random.seed(12)\n",
    "random_list = random.sample(range(500), 99)"
   ]
  },
  {
   "cell_type": "code",
   "execution_count": 7,
   "metadata": {},
   "outputs": [
    {
     "name": "stdout",
     "output_type": "stream",
     "text": [
      "Length of random_list: 99 \n",
      "First 10 Elements of random_list: [242, 137, 336, 270, 341, 179, 73, 195, 5, 191]\n"
     ]
    }
   ],
   "source": [
    "print('Length of random_list:', len(random_list),\n",
    "      '\\nFirst 10 Elements of random_list:', random_list[:10])"
   ]
  },
  {
   "cell_type": "code",
   "execution_count": 8,
   "metadata": {},
   "outputs": [
    {
     "name": "stdout",
     "output_type": "stream",
     "text": [
      "The sum of the elements on random list is 23739.\n"
     ]
    }
   ],
   "source": [
    "# use sum fnction to calculate sum of the elements\n",
    "\n",
    "print('The sum of the elements on random list is ', \n",
    "      sum(random_list), '.', sep='')"
   ]
  },
  {
   "cell_type": "code",
   "execution_count": 9,
   "metadata": {},
   "outputs": [
    {
     "name": "stdout",
     "output_type": "stream",
     "text": [
      "First 10 Elements of sorted_list: [0, 5, 9, 15, 26, 30, 31, 38, 42, 44] \n",
      "First 10 Elements of random_list: [242, 137, 336, 270, 341, 179, 73, 195, 5, 191]\n"
     ]
    }
   ],
   "source": [
    "# without modifying the original list, sort the elements in increasing order\n",
    "\n",
    "sorted_list = sorted(random_list)\n",
    "\n",
    "print('First 10 Elements of sorted_list:', sorted_list[:10],\n",
    "     '\\nFirst 10 Elements of random_list:', random_list[:10]\n",
    "     )"
   ]
  },
  {
   "cell_type": "code",
   "execution_count": 10,
   "metadata": {},
   "outputs": [
    {
     "name": "stdout",
     "output_type": "stream",
     "text": [
      "The smallest element of bot_slice is 0.\n",
      "The largest element of bot_slice is 173.\n",
      "\n",
      "The smallest element of mid_slice is 179.\n",
      "The largest element of mid_slice is 311.\n",
      "\n",
      "The smallest element of top_slice is 318.\n",
      "The largest element of top_slice is 484.\n"
     ]
    }
   ],
   "source": [
    "#create 3 lists; each list should contain smallest 33 elements, mid 33 elements, and largest 33 elements respectively\n",
    "\n",
    "bot_slice = sorted_list[0:33]\n",
    "mid_slice = sorted_list[33:66]\n",
    "top_slice = sorted_list[66:99]\n",
    "\n",
    "# print the smallest and largest elements of each list\n",
    "print('The smallest element of bot_slice is', str(bot_slice[0])+ '.')\n",
    "print('The largest element of bot_slice is', str(bot_slice[32]) + '.')\n",
    "print('\\nThe smallest element of mid_slice is', str(mid_slice[0]) + '.')\n",
    "print('The largest element of mid_slice is', str(mid_slice[32]) + '.')\n",
    "print('\\nThe smallest element of top_slice is', str(top_slice[0]) + '.')\n",
    "print('The largest element of top_slice is', str(top_slice[32]) + '.')"
   ]
  },
  {
   "cell_type": "markdown",
   "metadata": {},
   "source": [
    "## Problem 3: Magnitude of a Vector"
   ]
  },
  {
   "cell_type": "markdown",
   "metadata": {},
   "source": [
    "In mathematics, a vector is a quantity that conveys both a sense of direction and magnitude, or scale. Vectors are typically represented by a sequence of numbers inside of some type of brackets or parentheses. To allow us to easily think of vectors as lists, we will use square brackets to indicate a vector.\n",
    "\n",
    "Suppose that a vector 𝑣 with 𝑛 elements is defined as follows: 𝑣=[𝑣1,𝑣2,…,𝑣𝑛]. The magnitude of 𝑣 is calculated by squared each element of 𝑣, summing the results, and then taking the square root of the sum. That is to say:\n",
    "magnitude of 𝑣=√𝑣12+𝑣22 +⋯ + 𝑣𝑛2\n",
    "\n",
    "A unit vector is a vector whose magnitude is equal to 1. A unit vector can be created from any vector 𝑣 by dividing each element of 𝑣 by the magnitude of 𝑣."
   ]
  },
  {
   "cell_type": "code",
   "execution_count": 11,
   "metadata": {},
   "outputs": [
    {
     "name": "stdout",
     "output_type": "stream",
     "text": [
      "20.2485\n"
     ]
    }
   ],
   "source": [
    "# create a list representing a vector\n",
    "\n",
    "vector = [11, 6,-8,4,-13,2]\n",
    "\n",
    "# using a loop calculate the magnitude of the vector\n",
    "\n",
    "mag_v = 0\n",
    "for i in range(0, len(vector)):\n",
    "    mag_v += vector[i]**2\n",
    "mag_v = mag_v**0.5\n",
    "\n",
    "print(round(mag_v, 4))"
   ]
  },
  {
   "cell_type": "code",
   "execution_count": 12,
   "metadata": {},
   "outputs": [
    {
     "name": "stdout",
     "output_type": "stream",
     "text": [
      "[0.5433, 0.2963, -0.3951, 0.1975, -0.642, 0.0988]\n"
     ]
    }
   ],
   "source": [
    "# create a unit vector from the previous calculations\n",
    "\n",
    "unit_vector = [n/mag_v for n in vector]\n",
    "\n",
    "rounded_unit_vector = [round(n, 4) for n in unit_vector]\n",
    "\n",
    "print(rounded_unit_vector)"
   ]
  },
  {
   "cell_type": "code",
   "execution_count": 13,
   "metadata": {},
   "outputs": [
    {
     "name": "stdout",
     "output_type": "stream",
     "text": [
      "1.0\n"
     ]
    }
   ],
   "source": [
    "#using a loop calculate the magnitude of the unit_vector\n",
    "\n",
    "mag_u = 0\n",
    "for i in range(0, len(vector)):\n",
    "    mag_u += ((vector[i]) / (mag_v))**2\n",
    "    \n",
    "print(mag_u)"
   ]
  },
  {
   "cell_type": "markdown",
   "metadata": {},
   "source": [
    "## Problem 4: Fibonacci Sequence"
   ]
  },
  {
   "cell_type": "markdown",
   "metadata": {},
   "source": [
    "The Fibonacci sequence is a sequence of numbers defined as follows:\n",
    "\n",
    "    • The first two terms in the sequence are 0 and 1.\n",
    "    • Any later terms are determined by summing together the two previous terms of the sequence."
   ]
  },
  {
   "cell_type": "code",
   "execution_count": 14,
   "metadata": {},
   "outputs": [
    {
     "name": "stdout",
     "output_type": "stream",
     "text": [
      "[0, 1, 1, 2, 3, 5, 8, 13, 21, 34, 55, 89, 144, 233, 377, 610, 987, 1597, 2584, 4181, 6765, 10946, 17711, 28657, 46368, 75025, 121393, 196418, 317811, 514229]\n"
     ]
    }
   ],
   "source": [
    "# create a list containing the first two numbers of the fibbonacci sequence\n",
    "\n",
    "fib = [ 0,1]\n",
    "\n",
    "#use a loop to store the first 30 terms of the fibbonacci sequence\n",
    "while len(fib) < 30:\n",
    "    templist = fib[-2] + fib[-1]\n",
    "    fib.append(templist)\n",
    "\n",
    "#display the first 30 terms of the fibbonacci sequence\n",
    "print(fib)"
   ]
  },
  {
   "cell_type": "markdown",
   "metadata": {},
   "source": [
    "## Problem 5: Printing a Table"
   ]
  },
  {
   "cell_type": "markdown",
   "metadata": {},
   "source": [
    "In this problem, I created 5 parallel lists to store the contents of the columns that contain students, their major, credits, and GPA. I used these lists to print the information in table format."
   ]
  },
  {
   "cell_type": "code",
   "execution_count": 15,
   "metadata": {},
   "outputs": [
    {
     "name": "stdout",
     "output_type": "stream",
     "text": [
      "First      Last       Major              Credits     GPA\n",
      "--------------------------------------------------------\n",
      "Anna       Anderson   Mathematics           110     3.56\n",
      "Beatrice   Brown      Data Science           83     3.24\n",
      "Charles    Clark      Biology                64     3.87\n",
      "David      Daniels    Chemistry              35     2.83\n",
      "Emma       Edwards    Computer Science      104     3.61\n"
     ]
    }
   ],
   "source": [
    "# create lists storing the contents of students's majors, credits, and gpa\n",
    "\n",
    "first =  ['Anna', 'Beatrice', 'Charles', 'David', 'Emma']\n",
    "last = ['Anderson', 'Brown', 'Clark', 'Daniels', 'Edwards'] \n",
    "major = ['Mathematics', 'Data Science', 'Biology', 'Chemistry', 'Computer Science']\n",
    "credits = [110, 83, 64, 35, 104] \n",
    "gpa = [3.56, 3.24, 3.87, 2.83, 3.61]\n",
    "\n",
    "#use a loop to print table\n",
    "\n",
    "print('First'.ljust(10),  'Last'.ljust(10), 'Major'.ljust(18), 'Credits'.ljust(7), 'GPA'.rjust(7))\n",
    "print('--------------------------------------------------------')\n",
    "for i in range(0,5):\n",
    "    print(first[i].ljust(10), \n",
    "          last[i].ljust(10),\n",
    "          major[i].ljust(20),\n",
    "          str(credits[i]).rjust(4), \n",
    "          str(gpa[i]).rjust(8)\n",
    "         )\n",
    "\n",
    "   "
   ]
  },
  {
   "cell_type": "markdown",
   "metadata": {},
   "source": [
    "## Problem 6: Calculating Sum of Squared Errors"
   ]
  },
  {
   "cell_type": "markdown",
   "metadata": {},
   "source": [
    "Suppose that a biologist is studying the relationship between the length and weight of yellow-bellied marmots. Based on prior work, she believes that the length and weight of adult marmots can be approximately modeled by a relationship of the following form: 𝑤𝑒𝑖𝑔ℎ𝑡=0.6∗𝑙𝑒𝑛𝑔𝑡ℎ−5.2"
   ]
  },
  {
   "cell_type": "code",
   "execution_count": 16,
   "metadata": {},
   "outputs": [],
   "source": [
    "# create length and weight lists of 20 adult marmots \n",
    "\n",
    "length = [22.7, 22.4, 25.8, 21.3, 20.1, 22.1, 21.1, 25.3, 26.9, 26.9,\n",
    " 23.0, 23.8, 26.2, 20.4, 23.0, 21.9, 23.5, 27.8, 25.3, 25.9]\n",
    "\n",
    "weight = [9.2, 8.8, 10.7, 8.3, 6.2, 8.6, 7.2, 11.2, 10.5, 11.3,\n",
    " 9.6, 9.9, 10.9, 5.9, 9.5, 9.1, 9.7, 11.6, 10.2, 10.5]"
   ]
  },
  {
   "cell_type": "code",
   "execution_count": 17,
   "metadata": {},
   "outputs": [
    {
     "name": "stdout",
     "output_type": "stream",
     "text": [
      "[8.42, 8.24, 10.28, 7.58, 6.86, 8.06, 7.46, 9.98, 10.94, 10.94, 8.6, 9.08, 10.52, 7.04, 8.6, 7.94, 8.9, 11.48, 9.98, 10.34]\n"
     ]
    }
   ],
   "source": [
    "# use a loop to predict weight \n",
    "\n",
    "pred_weight = []\n",
    "for i in length:\n",
    "    templist = 0.6*i-5.2\n",
    "    pred_weight.append(round(templist,2))\n",
    "    \n",
    "# disply predicted weight\n",
    "print(pred_weight)\n",
    "    "
   ]
  },
  {
   "cell_type": "markdown",
   "metadata": {},
   "source": [
    "The biologist wishes to score her model using the sum of squared errors (SSE) metric. This metric is calculated as follows:\n",
    "1. For each observation, calculate the difference between the true weight and the predicted weight.\n",
    "2. Square this difference.\n",
    "3. Sum the squared differences over all observations"
   ]
  },
  {
   "cell_type": "code",
   "execution_count": 18,
   "metadata": {},
   "outputs": [
    {
     "name": "stdout",
     "output_type": "stream",
     "text": [
      "10.2236\n"
     ]
    }
   ],
   "source": [
    "SSE = 0\n",
    "for i in range(0, len(pred_weight)):\n",
    "    SSE += (pred_weight[i]-weight[i])**2\n",
    "    \n",
    "print(round(SSE,4))"
   ]
  },
  {
   "cell_type": "markdown",
   "metadata": {},
   "source": [
    "## Problem 7: Determining Monthly Payments\n"
   ]
  },
  {
   "cell_type": "markdown",
   "metadata": {},
   "source": [
    "In this problem, I will be determining the monthly payment that would be required to repay a mortgage on a home in 30 years for a range of different house prices."
   ]
  },
  {
   "cell_type": "code",
   "execution_count": 19,
   "metadata": {},
   "outputs": [
    {
     "name": "stdout",
     "output_type": "stream",
     "text": [
      "A loan of $200000 would require monthly payments of $1049.33.\n",
      "A loan of $300000 would require monthly payments of $1574.0.\n"
     ]
    }
   ],
   "source": [
    "i = 0.004               #interest rate\n",
    "n = 360                 # number of monthly payments\n",
    "start = 100000          # starting prices\n",
    "increment = 100000      # increase prices by this increment until price reaches 200000\n",
    "\n",
    "#using a loop calculate estimated monthly payment based on loan amount\n",
    "\n",
    "while start <= 200000:\n",
    "    L = start + increment\n",
    "    PMT = round(((L*i)/(1-(1+i)**-n)), 2)\n",
    "    start = L\n",
    "    print('A loan of $', L, ' would require monthly payments of $', PMT,'.', sep='')"
   ]
  },
  {
   "cell_type": "markdown",
   "metadata": {},
   "source": [
    "## Problem 8: Adding Matrices"
   ]
  },
  {
   "cell_type": "markdown",
   "metadata": {},
   "source": [
    "In this problem, I will calculate the sum of two 3x5 matrices. Each matrix will be stored as a list of lists, with each sub-list representing a single row of the matrix."
   ]
  },
  {
   "cell_type": "code",
   "execution_count": 20,
   "metadata": {},
   "outputs": [
    {
     "name": "stdout",
     "output_type": "stream",
     "text": [
      "[48, 72, 71, 43, 72]\n",
      "[65, 65, 65, 33, 44]\n",
      "[73, 68, 55, 41, 41]\n"
     ]
    }
   ],
   "source": [
    "A = [[13, 43, 28, 22, 41], [17, 39, 46, 16, 21], [41, 34, 31, 25,14]]\n",
    "B = [[35, 29, 43, 21, 31], [48, 26, 19, 17, 23], [32, 34, 24, 16, 27]]\n",
    "\n",
    "AplusB = []\n",
    "\n",
    "for i in range(0,len(A)):\n",
    "    \n",
    "    tempRow = []    \n",
    "    for j in range(0,len(A[i])):\n",
    "        tempRow.append(A[i][j] + B[i][j])\n",
    "        \n",
    "    AplusB.append(tempRow)\n",
    "\n",
    "for row in AplusB:\n",
    "    print(row)\n",
    " "
   ]
  }
 ],
 "metadata": {
  "kernelspec": {
   "display_name": "Python 3",
   "language": "python",
   "name": "python3"
  },
  "language_info": {
   "codemirror_mode": {
    "name": "ipython",
    "version": 3
   },
   "file_extension": ".py",
   "mimetype": "text/x-python",
   "name": "python",
   "nbconvert_exporter": "python",
   "pygments_lexer": "ipython3",
   "version": "3.8.5"
  }
 },
 "nbformat": 4,
 "nbformat_minor": 4
}
