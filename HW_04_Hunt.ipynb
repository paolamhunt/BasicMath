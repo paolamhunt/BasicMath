{
 "cells": [
  {
   "cell_type": "markdown",
   "metadata": {},
   "source": [
    "\n",
    "# Homework 04\n",
    "### Paola M Hunt"
   ]
  },
  {
   "cell_type": "markdown",
   "metadata": {},
   "source": [
    "## Problem 1: Dot Product"
   ]
  },
  {
   "cell_type": "markdown",
   "metadata": {},
   "source": [
    "In this problem, I will write a function that performs the dot product operation on two vectors. \n",
    "\n",
    "In mathematics, a vector is essentially a sequence of numbers, similar to a Python list. Given to vectors of equal size, the dot product of those vectors is calculated by multiplying corresponding elements of the two vectors and then summing the products."
   ]
  },
  {
   "cell_type": "code",
   "execution_count": 1,
   "metadata": {},
   "outputs": [],
   "source": [
    "def dot_product(x, y):\n",
    "    product = 0\n",
    "    \n",
    "    for i in range(0, len(x)):\n",
    "        product += x[i] * y[i]\n",
    "        \n",
    "    return(product)  "
   ]
  },
  {
   "cell_type": "code",
   "execution_count": 2,
   "metadata": {},
   "outputs": [
    {
     "name": "stdout",
     "output_type": "stream",
     "text": [
      "The dot product of v1 and v2 is 16220.\n"
     ]
    }
   ],
   "source": [
    "v1 = [38, 9, 40, 34, 20, 16, 42, 36, 12, 1, 23, 46, 31, 19, 30, 33, 16, 43, 24, 41]\n",
    "v2 = [43, 13, 35, 14, 26, 3, 36, 15, 42, 44, 45, 20, 17, 6, 47, 40, 38, 41, 31, 24]\n",
    "\n",
    "print(f'The dot product of v1 and v2 is {dot_product(v1, v2)}.')"
   ]
  },
  {
   "cell_type": "markdown",
   "metadata": {},
   "source": [
    "## Problem 2: Amortization"
   ]
  },
  {
   "cell_type": "markdown",
   "metadata": {},
   "source": [
    "In this problem, I will create a function that counts the number of monthly payments required to pay back a loan."
   ]
  },
  {
   "cell_type": "code",
   "execution_count": 3,
   "metadata": {},
   "outputs": [],
   "source": [
    "def count_payments(balance, i, pmt):\n",
    "    number_pmts = 0\n",
    "    \n",
    "    while balance > 0:\n",
    "        balance = round((balance * (1+i)) - pmt, 2)\n",
    "        number_pmts += 1\n",
    "    return number_pmts"
   ]
  },
  {
   "cell_type": "markdown",
   "metadata": {},
   "source": [
    "I will now test the function."
   ]
  },
  {
   "cell_type": "code",
   "execution_count": 4,
   "metadata": {
    "scrolled": true
   },
   "outputs": [
    {
     "name": "stdout",
     "output_type": "stream",
     "text": [
      "351 monthly payments of $850.\n",
      "312 monthly payments of $900.\n",
      "281 monthly payments of $950.\n",
      "256 monthly payments of $1000.\n",
      "236 monthly payments of $1050.\n"
     ]
    }
   ],
   "source": [
    "balance = 160000\n",
    "i = 0.004\n",
    "pmt = 800\n",
    "increment = 50\n",
    "\n",
    "while pmt < 1050:\n",
    "    new_pmt = pmt + increment\n",
    "    count_payments(balance, i, pmt)\n",
    "    pmt = new_pmt\n",
    "    print(f'{count_payments(balance, i, pmt)} monthly payments of ${pmt}.')\n",
    "    "
   ]
  },
  {
   "cell_type": "markdown",
   "metadata": {},
   "source": [
    "I will test the function with a different set of values"
   ]
  },
  {
   "cell_type": "code",
   "execution_count": 5,
   "metadata": {},
   "outputs": [
    {
     "name": "stdout",
     "output_type": "stream",
     "text": [
      "308 monthly payments of $850.\n",
      "279 monthly payments of $900.\n",
      "255 monthly payments of $950.\n",
      "235 monthly payments of $1000.\n",
      "219 monthly payments of $1050.\n"
     ]
    }
   ],
   "source": [
    "balance = 160000\n",
    "i = 0.0035\n",
    "pmt = 800\n",
    "increment = 50\n",
    "\n",
    "while pmt < 1050:\n",
    "    new_pmt = pmt + increment\n",
    "    count_payments(balance, i, pmt)\n",
    "    pmt = new_pmt\n",
    "    print(f'{count_payments(balance, i, pmt)} monthly payments of ${pmt}.')\n"
   ]
  },
  {
   "cell_type": "markdown",
   "metadata": {},
   "source": [
    "## Problem 3: Minimum"
   ]
  },
  {
   "cell_type": "markdown",
   "metadata": {},
   "source": [
    "In this problem, I will write a function to find the smallest element of a list. I am, in a sense, re-inventing the wheel since the min() function already performs this exact task. However, the purpose this exercise was to have me think through the logic of how such a function would be implemented from scratch."
   ]
  },
  {
   "cell_type": "code",
   "execution_count": 6,
   "metadata": {},
   "outputs": [],
   "source": [
    "def minimum(x):\n",
    "    current_min = x[0]  # Starting with the first item on the list\n",
    "    for i in x:       # using a loop to check against all items on list\n",
    "        if i < current_min:\n",
    "            current_min = i  # Update current_min if current number is less\n",
    "    return current_min"
   ]
  },
  {
   "cell_type": "markdown",
   "metadata": {},
   "source": [
    "I will now test the minimum() function."
   ]
  },
  {
   "cell_type": "code",
   "execution_count": 7,
   "metadata": {},
   "outputs": [
    {
     "name": "stdout",
     "output_type": "stream",
     "text": [
      "4.1\n",
      "3.4\n",
      "Chicago\n"
     ]
    }
   ],
   "source": [
    "list1 = [9.8, 7.4, 5.6, 4.8, 4.8, 5.3, 4.1, 9.6, 5.4]\n",
    "list2 = [3.4, 7.6, 8.7, 7.5, 9.8, 7.5, 6.7, 8.7, 8.4]\n",
    "list3 = ['St. Louis', 'Kansas City', 'Chicago', 'Little Rock', 'Omaha']\n",
    "\n",
    "print(minimum(list1),'\\n', minimum(list2), '\\n', minimum(list3), sep='')"
   ]
  },
  {
   "cell_type": "markdown",
   "metadata": {},
   "source": [
    "## Problem 4: Argmin"
   ]
  },
  {
   "cell_type": "markdown",
   "metadata": {},
   "source": [
    "In this problem, I will write a function to find the index of the smallest element of a list. The logic in writing this function is very similar to that which was used in Problem 3, with a few modifications."
   ]
  },
  {
   "cell_type": "code",
   "execution_count": 8,
   "metadata": {},
   "outputs": [],
   "source": [
    "def argmin(x):\n",
    "    current_min = x[0]                   # Setting the index to 0\n",
    "    current_ind = 0                     # Starting with the first item on the list\n",
    "    \n",
    "    for i in x:                          # using a loop to check against all items on list\n",
    "        if i <= current_min:\n",
    "            current_min = i              # Update current_min if current number is less\n",
    "            min_index = current_ind\n",
    "        current_ind += 1\n",
    "            \n",
    "    return min_index                  # Returns index of smallest item\n"
   ]
  },
  {
   "cell_type": "markdown",
   "metadata": {},
   "source": [
    "We will now test the argmin() function"
   ]
  },
  {
   "cell_type": "code",
   "execution_count": 9,
   "metadata": {},
   "outputs": [
    {
     "name": "stdout",
     "output_type": "stream",
     "text": [
      "6\n",
      "0\n",
      "2\n"
     ]
    }
   ],
   "source": [
    "list1 = [9.8, 7.4, 5.6, 4.8, 4.8, 5.3, 4.1, 9.6, 5.4]\n",
    "list2 = [3.4, 7.6, 8.7, 7.5, 9.8, 7.5, 6.7, 8.7, 8.4]\n",
    "list3 = ['St. Louis', 'Kansas City', 'Chicago', 'Little Rock', 'Omaha']\n",
    "\n",
    "print(\n",
    "    argmin(list1),'\\n',\n",
    "    argmin(list2),'\\n',\n",
    "    argmin(list3), sep='' \n",
    "     )"
   ]
  },
  {
   "cell_type": "markdown",
   "metadata": {},
   "source": [
    "## Problem 5: Find Smallest Elements"
   ]
  },
  {
   "cell_type": "markdown",
   "metadata": {},
   "source": [
    "In this problem, I will write a function to find the smallest elements of a list."
   ]
  },
  {
   "cell_type": "code",
   "execution_count": 10,
   "metadata": {},
   "outputs": [],
   "source": [
    "def find_smallest(x,n=None):\n",
    "    sortlist = sorted(x)\n",
    "    if n == None:\n",
    "        return sortlist[0]\n",
    "    elif n >= 1 and n <= len(x):\n",
    "        return sortlist[0:n]\n",
    "    else:\n",
    "        return sortlist"
   ]
  },
  {
   "cell_type": "markdown",
   "metadata": {},
   "source": [
    "I will now test the find_smallest() function."
   ]
  },
  {
   "cell_type": "code",
   "execution_count": 11,
   "metadata": {},
   "outputs": [
    {
     "name": "stdout",
     "output_type": "stream",
     "text": [
      "17\n",
      "[17]\n",
      "[17, 28]\n",
      "[17, 28, 28, 39, 53]\n",
      "[17, 28, 28, 39, 53, 54, 64, 74]\n"
     ]
    }
   ],
   "source": [
    "my_list = [39, 74, 28, 64, 17, 28, 54, 53] \n",
    "\n",
    "print(find_smallest(my_list),'\\n', \n",
    "      find_smallest(my_list, 1), '\\n',\n",
    "      find_smallest(my_list, 2), '\\n',\n",
    "      find_smallest(my_list, 5), '\\n',\n",
    "      find_smallest(my_list, 12), sep=''\n",
    "     )\n"
   ]
  },
  {
   "cell_type": "markdown",
   "metadata": {},
   "source": [
    "Let's confirm that the original list has not been altered."
   ]
  },
  {
   "cell_type": "code",
   "execution_count": 12,
   "metadata": {},
   "outputs": [
    {
     "name": "stdout",
     "output_type": "stream",
     "text": [
      "[39, 74, 28, 64, 17, 28, 54, 53]\n"
     ]
    }
   ],
   "source": [
    "# Checking to see if list was alterated\n",
    "\n",
    "print(my_list)"
   ]
  },
  {
   "cell_type": "markdown",
   "metadata": {},
   "source": [
    "## Problem 6: Find Unique Elements"
   ]
  },
  {
   "cell_type": "markdown",
   "metadata": {},
   "source": [
    "In this problem, I will create a function named unique() that will identify the unique elements contained within a list. The function will return a list that contains the same values as the argument list, but with duplicate values removed, and sorted in ascending order."
   ]
  },
  {
   "cell_type": "code",
   "execution_count": 13,
   "metadata": {},
   "outputs": [],
   "source": [
    "def unique(x):\n",
    "    x.sort()\n",
    "    new_list = []\n",
    "    \n",
    "    for i in x:\n",
    "        if i not in new_list:\n",
    "            new_list.append(i)\n",
    "    \n",
    "    return new_list"
   ]
  },
  {
   "cell_type": "markdown",
   "metadata": {},
   "source": [
    "I will now test the unique() function."
   ]
  },
  {
   "cell_type": "code",
   "execution_count": 14,
   "metadata": {},
   "outputs": [
    {
     "name": "stdout",
     "output_type": "stream",
     "text": [
      "[12, 14, 16, 19, 23]\n",
      "['bat', 'cat', 'dog', 'frog']\n"
     ]
    }
   ],
   "source": [
    "int_list = [23, 16, 23, 12, 14, 23, 12, 19, 19]\n",
    "str_list = ['cat', 'dog', 'dog', 'cat', 'bat', 'frog', 'dog', 'frog']\n",
    "\n",
    "print(unique(int_list),'\\n',\n",
    "      unique(str_list), sep=''\n",
    "     )"
   ]
  },
  {
   "cell_type": "markdown",
   "metadata": {},
   "source": [
    "## Problem 7: Frequency Distribution"
   ]
  },
  {
   "cell_type": "markdown",
   "metadata": {},
   "source": [
    "In this problem, I will create a function named freq_dist() that creates a frequency distribution based on the elements of a list. The function will accept a list of values as its input and will return two lists. One returned list will contain the unique values found in the argument list, while the second list will contains counts of the number of times each of the unique values occurred."
   ]
  },
  {
   "cell_type": "code",
   "execution_count": 15,
   "metadata": {},
   "outputs": [],
   "source": [
    "def freq_dist(x):\n",
    "    values = unique(x)\n",
    "    counts = []\n",
    "    \n",
    "    for i in values:\n",
    "        if i in x:\n",
    "            templist = x.count(i)\n",
    "            counts.append(templist)\n",
    "    \n",
    "    return f'Unique Values: {values} \\nFrequencies:   {counts}'\n",
    "            "
   ]
  },
  {
   "cell_type": "markdown",
   "metadata": {},
   "source": [
    "I will now test the freq_dist() function"
   ]
  },
  {
   "cell_type": "code",
   "execution_count": 16,
   "metadata": {},
   "outputs": [
    {
     "name": "stdout",
     "output_type": "stream",
     "text": [
      "Unique Values: ['A', 'B', 'C', 'D', 'F'] \n",
      "Frequencies:   [6, 8, 5, 5, 3]\n"
     ]
    }
   ],
   "source": [
    "grades = ['A', 'D', 'A', 'C', 'B', 'F', 'A', 'D', 'C',\n",
    "'B', 'F', 'A', 'C', 'B', 'A', 'B', 'B', 'C',\n",
    "'B', 'F', 'D', 'D', 'A', 'C', 'B', 'B', 'D']\n",
    "\n",
    "print(freq_dist(grades))"
   ]
  },
  {
   "cell_type": "markdown",
   "metadata": {},
   "source": [
    "## Problem 8: Weighed Means"
   ]
  },
  {
   "cell_type": "markdown",
   "metadata": {},
   "source": [
    "In this problem, we will create a function named mean() that can be used to calculate either standard means or weighted means. The function will have two parameters, x and w. The parameter x is expected to be a numerical list, and w is expected to be either a numerical list or to have the value None. If w=None, then the function should simply return the mean (or average) of the elements in x. If w is a list, then the function should return the weighted mean of the elements in x, using the elements of w as weights."
   ]
  },
  {
   "cell_type": "code",
   "execution_count": 17,
   "metadata": {},
   "outputs": [],
   "source": [
    "def mean(x, w = None):\n",
    "    total = 0\n",
    "    \n",
    "    if w == None:\n",
    "        for i in x:\n",
    "            total += i \n",
    "        \n",
    "        return total / len(x)\n",
    "    \n",
    "    else:\n",
    "        for i in range(0, len(x)):\n",
    "            total += x[i] * w[i]\n",
    "        \n",
    "        return total / sum(w)"
   ]
  },
  {
   "cell_type": "markdown",
   "metadata": {},
   "source": [
    "I will now test the mean() function"
   ]
  },
  {
   "cell_type": "code",
   "execution_count": 18,
   "metadata": {},
   "outputs": [
    {
     "name": "stdout",
     "output_type": "stream",
     "text": [
      "Standard Mean: 4.9 \n",
      "Weighted Mean: 4.15\n"
     ]
    }
   ],
   "source": [
    "values = [4, 7, 3, 5, 2, 6, 8, 2, 4, 8]\n",
    "weights = [2, 1, 3, 1, 2, 3, 1, 4, 2, 1]\n",
    "\n",
    "print(f'Standard Mean: {mean(values)} \\nWeighted Mean: {mean(values, weights)}')"
   ]
  }
 ],
 "metadata": {
  "kernelspec": {
   "display_name": "Python 3",
   "language": "python",
   "name": "python3"
  },
  "language_info": {
   "codemirror_mode": {
    "name": "ipython",
    "version": 3
   },
   "file_extension": ".py",
   "mimetype": "text/x-python",
   "name": "python",
   "nbconvert_exporter": "python",
   "pygments_lexer": "ipython3",
   "version": "3.8.5"
  }
 },
 "nbformat": 4,
 "nbformat_minor": 4
}
