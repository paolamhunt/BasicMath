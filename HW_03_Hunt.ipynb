{
 "cells": [
  {
   "cell_type": "markdown",
   "metadata": {},
   "source": [
    "# Homework 03\n",
    "### Paola M Hunt"
   ]
  },
  {
   "cell_type": "markdown",
   "metadata": {},
   "source": [
    "## Problem 1: Calculating Exam Scores"
   ]
  },
  {
   "cell_type": "markdown",
   "metadata": {},
   "source": [
    "In this problem, I will use a loop to calculate scores for two students who have taking a multiple-choice exam with 25 questions."
   ]
  },
  {
   "cell_type": "code",
   "execution_count": 1,
   "metadata": {},
   "outputs": [
    {
     "name": "stdout",
     "output_type": "stream",
     "text": [
      "Student 1 Grade: 64%\n",
      "Student 2 Grade: 84%\n"
     ]
    }
   ],
   "source": [
    "correct = ['D', 'B', 'C', 'A', 'C', 'D', 'A', 'C', 'C', 'B', 'D', 'A', 'B', 'D', 'C', 'D', 'C', 'D', 'C', 'A', 'B', 'D', 'C', 'B', 'A']\n",
    "answers1 = ['A', 'B', 'C', 'A', 'B', 'D', 'A', 'A', 'C', 'B', 'D', 'A', 'D', 'C', 'C', 'B', 'C', 'D', 'B', 'A', 'D', 'D', 'C', 'C', 'A']\n",
    "answers2 = ['D', 'A', 'C', 'A', 'B', 'D', 'A', 'C', 'C', 'B', 'D', 'A', 'B', 'D', 'A', 'D', 'C', 'D', 'C', 'A', 'B', 'C', 'C', 'B', 'A']\n",
    "\n",
    "count1 = 0\n",
    "count2 = 0\n",
    "\n",
    "for i in range(0, len(correct)):\n",
    "    if correct[i] == answers1[i]:\n",
    "        count1 += 1\n",
    "    if correct[i] == answers2[i]:\n",
    "        count2 += 1\n",
    "        \n",
    "grade1 = int((count1 / len(correct)) * 100)\n",
    "grade2 = int((count2 / len(correct)) * 100)\n",
    "\n",
    "print(f'Student 1 Grade:{grade1:>3}%'\n",
    "      f'\\nStudent 2 Grade:{grade2:>3}%'\n",
    "     )\n"
   ]
  },
  {
   "cell_type": "markdown",
   "metadata": {},
   "source": [
    "## Problem 2: Calculating Price of a Bulk Order"
   ]
  },
  {
   "cell_type": "markdown",
   "metadata": {},
   "source": [
    "WidgCo is a company that sells widgets. The company uses the bulk pricing policy described below.\n",
    "\n",
    "    • If 100 or fewer widgets are ordered, then each widget costs $350.\n",
    "    • If 200 or fewer widgets are ordered, the first 100 widgets each cost $350, and each additional widget costs $300.\n",
    "    • If more than 200 widgets are ordered, then the first 100 each cost $350, the next 100 each cost $300, and each widget beyond the first 200 will cost $250.\n",
    "\n",
    "In this problem, I will determine the price for orders containing the following numbers of widgets:\n",
    "84, 100, 126, 150, 186, 200, 216, 248"
   ]
  },
  {
   "cell_type": "code",
   "execution_count": 2,
   "metadata": {},
   "outputs": [
    {
     "name": "stdout",
     "output_type": "stream",
     "text": [
      "The cost for an order of 84 widgets is $29400.\n",
      "The cost for an order of 100 widgets is $35000.\n",
      "The cost for an order of 126 widgets is $42800.\n",
      "The cost for an order of 150 widgets is $50000.\n",
      "The cost for an order of 186 widgets is $60800.\n",
      "The cost for an order of 200 widgets is $65000.\n",
      "The cost for an order of 216 widgets is $69000.\n",
      "The cost for an order of 248 widgets is $77000.\n"
     ]
    }
   ],
   "source": [
    "quantities = [84, 100, 126, 150, 186, 200, 216, 248]\n",
    "\n",
    "for i in range(0, len(quantities)):\n",
    "    \n",
    "    if quantities[i] > 200:\n",
    "        price = (100*350)+(100*300)+((quantities[i]-200)*250)\n",
    "             \n",
    "    if quantities[i] <= 200:\n",
    "        price = (100 * 350) + ((quantities[i] - 100)*300)\n",
    "          \n",
    "    if quantities[i] <= 100:\n",
    "        price = quantities[i] * 350\n",
    "\n",
    "    print(f'The cost for an order of {quantities[i]} widgets is ${price}.')"
   ]
  },
  {
   "cell_type": "markdown",
   "metadata": {},
   "source": [
    "## Problem 3: Creating an Amortization Schedule"
   ]
  },
  {
   "cell_type": "markdown",
   "metadata": {},
   "source": [
    "I will create an amrtization schedule based on the following information.\n",
    "\n",
    "    Balance $1,000\n",
    "    Interest 5%\n",
    "    Payment Amount $150\n",
    " \n",
    "**Note**: When final payment is made, balance will be less than $150, therefore, a partial payment will be made."
   ]
  },
  {
   "cell_type": "code",
   "execution_count": 3,
   "metadata": {},
   "outputs": [
    {
     "name": "stdout",
     "output_type": "stream",
     "text": [
      "The balance at the end of year 1 is $900.0.\n",
      "The balance at the end of year 2 is $795.0.\n",
      "The balance at the end of year 3 is $684.75.\n",
      "The balance at the end of year 4 is $568.99.\n",
      "The balance at the end of year 5 is $447.44.\n",
      "The balance at the end of year 6 is $319.81.\n",
      "The balance at the end of year 7 is $185.8.\n",
      "The balance at the end of year 8 is $45.09.\n",
      "The balance at the end of year 9 is $0.\n"
     ]
    }
   ],
   "source": [
    "balance = 1000\n",
    "i = 0.05\n",
    "pmt = 150\n",
    "n = 0\n",
    "\n",
    "while balance > 0:\n",
    "    n += 1                                         # increases number of payments by 1\n",
    "    balance = round(((balance * (1+i)) - pmt), 2)  # calculates new balance\n",
    "    \n",
    "    if balance <=0:                                # if balance is less than 0 it will walculate final payment\n",
    "        finalpmt = balance + pmt\n",
    "        balance = 0                                # resets balance to 0\n",
    "\n",
    "    print(f'The balance at the end of year {n} is ${balance}.')\n",
    "    "
   ]
  },
  {
   "cell_type": "code",
   "execution_count": 4,
   "metadata": {},
   "outputs": [
    {
     "name": "stdout",
     "output_type": "stream",
     "text": [
      "The amount of the final payment will be $47.34.\n"
     ]
    }
   ],
   "source": [
    "print(f'The amount of the final payment will be ${finalpmt}.')"
   ]
  },
  {
   "cell_type": "markdown",
   "metadata": {},
   "source": [
    "## Problem 4: Hailstone Sequences"
   ]
  },
  {
   "cell_type": "markdown",
   "metadata": {},
   "source": [
    "In this problem, I will use a while loop to create three different hailstone squences starting with 15, 17, and 22.\n",
    "\n",
    "In mathematics, a hailstone sequence is a sequence creates as follows:\n",
    "\n",
    "    • Select a starting value for the sequence.\n",
    "    • If a particular term in the sequence is equal to 𝑛, then the next term will be equal to 𝑛/2 if 𝑛 is even, and will be equal to 3𝑛+1 if 𝑛 is odd.\n",
    "    • The sequence continues until reaching a term that is equal to 1."
   ]
  },
  {
   "cell_type": "code",
   "execution_count": 5,
   "metadata": {},
   "outputs": [
    {
     "name": "stdout",
     "output_type": "stream",
     "text": [
      "[15, 46, 23, 70, 35, 106, 53, 160, 80, 40, 20, 10, 5, 16, 8, 4, 2, 1]\n",
      "[17, 52, 26, 13, 40, 20, 10, 5, 16, 8, 4, 2, 1]\n",
      "[22, 11, 34, 17, 52, 26, 13, 40, 20, 10, 5, 16, 8, 4, 2, 1]\n"
     ]
    }
   ],
   "source": [
    "hs15 = [15]\n",
    "hs17 = [17]\n",
    "hs22 = [22]\n",
    "\n",
    "n = 15                    #starting value for sequence\n",
    "while n != 1:\n",
    "    if n % 2 == 0:        # if value is even\n",
    "        n = int(n/2)      # divide value by 2\n",
    "        hs15.append(n)    # add to list\n",
    "   \n",
    "    else:                 #if value is odd\n",
    "        n = int((3*n)+1)  # perform calculation\n",
    "        hs15.append(n)    # add to list and repeat until reaches 1\n",
    "        \n",
    "n = 17                    #starting value for sequence\n",
    "while n != 1:\n",
    "    if n % 2 == 0:        # if value is even\n",
    "        n = int(n/2)      # divide value by 2\n",
    "        hs17.append(n)    # add to list\n",
    "   \n",
    "    else:                 #if value is odd\n",
    "        n = int((3*n)+1)  # perform calculation\n",
    "        hs17.append(n)    # add to list and repeat until reaches 1\n",
    "\n",
    "n = 22                     #starting value for sequence\n",
    "while n != 1:\n",
    "    if n % 2 == 0:         # if value is even\n",
    "        n = int(n/2)       # divide value by 2\n",
    "        hs22.append(n)     # add to list\n",
    "   \n",
    "    else:                  #if value is odd\n",
    "        n = int((3*n)+1)   # perform calculation\n",
    "        hs22.append(n)     # add to list and repeat until reaches 1\n",
    "\n",
    "# display hailstone sequences\n",
    "\n",
    "print(hs15, '\\n', hs17, '\\n', hs22, sep ='')\n",
    "    \n"
   ]
  },
  {
   "cell_type": "markdown",
   "metadata": {},
   "source": [
    "## Problem 5: Predator/Prey Model"
   ]
  },
  {
   "cell_type": "markdown",
   "metadata": {},
   "source": [
    "In this problem, I will use a While Loop to determine the rabbit and wolf population sizes until the rabbit population dies out. Calculations are based on the model below:\n",
    "\n",
    "    • Let 𝑟𝑐 be the current size of the rabbit population.\n",
    "    • Let 𝑤𝑐 be the current size of the wolf population.\n",
    "    • Let 𝑟𝑛 be the size of the rabbit population one year from now.\n",
    "    • Let 𝑤𝑛 be the size of the wolf population one year from now\n",
    "    • The population sizes one year from now are determine by the following equations:\n",
    "    𝑟𝑛=1.5⋅𝑟𝑐−0.002⋅𝑟𝑐⋅𝑤𝑐 \n",
    "    𝑤𝑛=0.8⋅𝑤𝑐+0.0003⋅𝑟𝑐⋅𝑤𝑐"
   ]
  },
  {
   "cell_type": "code",
   "execution_count": 6,
   "metadata": {},
   "outputs": [
    {
     "name": "stdout",
     "output_type": "stream",
     "text": [
      "Year    R_pop  W_pop\n",
      "---------------------\n",
      "0       1000   200    \n",
      "1       1100   220    \n",
      "2       1166   249    \n",
      "3       1168   286    \n",
      "4       1084   329    \n",
      "5       913    370    \n",
      "6       694    397    \n",
      "7       490    400    \n",
      "8       343    379    \n",
      "9       255    342    \n",
      "10      208    300    \n",
      "11      187    259    \n",
      "12      184    222    \n",
      "13      194    190    \n",
      "14      217    163    \n",
      "15      255    141    \n",
      "16      311    124    \n",
      "17      389    111    \n",
      "18      497    102    \n",
      "19      644    97     \n",
      "20      841    96     \n",
      "21      1100   101    \n",
      "22      1428   114    \n",
      "23      1816   140    \n",
      "24      2216   188    \n",
      "25      2491   275    \n",
      "26      2366   426    \n",
      "27      1533   643    \n",
      "28      328    810    \n",
      "29      -39    728    \n"
     ]
    }
   ],
   "source": [
    "r_pop = 1000\n",
    "w_pop = 200\n",
    "\n",
    "print('Year'.ljust(7), 'R_pop'.ljust(6), 'W_pop'.ljust(5))\n",
    "print('---------------------')\n",
    "print(f'{0:<8}{1000:<7}{200:<7}'\n",
    "      f'\\n{1:<8}{1100:<7}{220:<7}'\n",
    "      f'\\n{2:<8}{1166:<7}{249:<7}'\n",
    "     )\n",
    "\n",
    "r_pop_prev = 1166\n",
    "w_pop_prev = 249\n",
    "year = 2\n",
    "\n",
    "while r_pop >= 0:\n",
    "    \n",
    "    r_pop = int(round((1.5 * r_pop_prev - 0.002 * r_pop_prev * w_pop_prev)))\n",
    "    w_pop = int(round((0.8* w_pop_prev + 0.0003 * r_pop_prev * w_pop_prev)))\n",
    "    \n",
    "    r_pop_prev = r_pop\n",
    "    w_pop_prev = w_pop\n",
    "    \n",
    "    year += 1\n",
    "    \n",
    "    print(f'{year:<8}{r_pop:<7}{w_pop:<7}')"
   ]
  },
  {
   "cell_type": "markdown",
   "metadata": {},
   "source": [
    "## Problem 6: Finding a Root of a Polynomial Function"
   ]
  },
  {
   "cell_type": "markdown",
   "metadata": {},
   "source": [
    "In this problem, I will approximate the value of the root of the polynomial. \n",
    "\n",
    "f(x) = x^3-3x^2+3x-4"
   ]
  },
  {
   "cell_type": "code",
   "execution_count": 7,
   "metadata": {},
   "outputs": [
    {
     "name": "stdout",
     "output_type": "stream",
     "text": [
      "The approximate solution is 3.3744.\n"
     ]
    }
   ],
   "source": [
    "x1 = 3 \n",
    "x2 = 4\n",
    "\n",
    "val1 = x1**3 - 4*x1**2 +3*x1 - 4\n",
    "val2 = x2**3 - 4*x2**2 +3*x2 - 4\n",
    "\n",
    "#use a loop to update values\n",
    "\n",
    "while abs(val1 - val2) > 0.00001:\n",
    "    new_x = (x1 + x2) / 2\n",
    "    new_val = new_x**3 - 4*new_x**2 +3*new_x - 4\n",
    "    \n",
    "    if new_val <= -1:\n",
    "        x1 = new_x\n",
    "        val1 = new_val\n",
    "    else:\n",
    "        x2 = new_x\n",
    "        val2 = new_val\n",
    "\n",
    "print(f'The approximate solution is ', round(new_x, 4), '.', sep = '')"
   ]
  },
  {
   "cell_type": "markdown",
   "metadata": {},
   "source": [
    "## Problem 7: Grade Database"
   ]
  },
  {
   "cell_type": "markdown",
   "metadata": {},
   "source": [
    "In this problem, I will be displaying (fictional) grade information that is assumed to be taken from a university's grade database. The information is stored in two dictionaries and three lists, as shown below."
   ]
  },
  {
   "cell_type": "code",
   "execution_count": 8,
   "metadata": {},
   "outputs": [],
   "source": [
    "students = {\n",
    "146832:{'first':'Brendan', 'last':'Small'},\n",
    "147354:{'first':'Melissa', 'last':'Robbins'},\n",
    "149126:{'first':'Jason', 'last':'Penopolis'},\n",
    "149735:{'first':'Fenton', 'last':'Mulley'}\n",
    "}\n",
    "courses = {\n",
    "'ENGL 101':'Composition I',\n",
    "'ENGL 104':'Composition II',\n",
    "'MATH 117':'College Algebra',\n",
    "'MATH 151':'Calculus I',\n",
    "'CHEM 103':'General Chemistry I',\n",
    "'ECON 201':'Macroeconomics'\n",
    "}\n",
    "sid = [149126, 146832, 147354, 149735, 149126, 146832,\n",
    "146832, 149735, 149126, 147354, 147354, 149735]\n",
    "cid = ['ENGL 101', 'MATH 117', 'ENGL 104', 'CHEM 103', 'MATH 117', 'ECON 201',\n",
    "'ENGL 101', 'ENGL 101', 'CHEM 103', 'ENGL 104', 'MATH 151', 'MATH 117']\n",
    "grade = ['D', 'C', 'B', 'A', 'B', 'C',\n",
    "'A', 'F', 'B', 'A', 'A', 'C']"
   ]
  },
  {
   "cell_type": "code",
   "execution_count": 9,
   "metadata": {},
   "outputs": [
    {
     "name": "stdout",
     "output_type": "stream",
     "text": [
      "SID      First     Last        CID        Course Name           Grade\n",
      "---------------------------------------------------------------------\n",
      "149126   Jason     Penopolis   ENGL 101   Composition I             D\n",
      "146832   Brendan   Small       MATH 117   College Algebra           C\n",
      "147354   Melissa   Robbins     ENGL 104   Composition II            B\n",
      "149735   Fenton    Mulley      CHEM 103   General Chemistry I       A\n",
      "149126   Jason     Penopolis   MATH 117   College Algebra           B\n",
      "146832   Brendan   Small       ECON 201   Macroeconomics            C\n",
      "146832   Brendan   Small       ENGL 101   Composition I             A\n",
      "149735   Fenton    Mulley      ENGL 101   Composition I             F\n",
      "149126   Jason     Penopolis   CHEM 103   General Chemistry I       B\n",
      "147354   Melissa   Robbins     ENGL 104   Composition II            A\n",
      "147354   Melissa   Robbins     MATH 151   Calculus I                A\n",
      "149735   Fenton    Mulley      MATH 117   College Algebra           C\n"
     ]
    }
   ],
   "source": [
    "# Use a loop to print information on table format \n",
    "\n",
    "print(f'{\"SID\":<9}{\"First\":<10}{\"Last\":<12}{\"CID\":<11}{\"Course Name\":<22}{\"Grade\":>5}')\n",
    "print('-'*69)\n",
    "\n",
    "for i in range(0, 12):\n",
    "    a = sid[i]\n",
    "    b = cid[i]\n",
    "    c = grade[i]\n",
    "        \n",
    "    print(f'{a:<9}{students[a][\"first\"]:<10}{students[a][\"last\"]:<12}{b:<11}{courses[b]:<22}{c:>5}')        "
   ]
  },
  {
   "cell_type": "markdown",
   "metadata": {},
   "source": [
    "## Problem 8: Warehouse Inventory"
   ]
  },
  {
   "cell_type": "markdown",
   "metadata": {},
   "source": [
    "In this problem, I will use a loop to create a dictionary that contains the product code and total retail value for the company's stock of the corresponding product."
   ]
  },
  {
   "cell_type": "code",
   "execution_count": 10,
   "metadata": {},
   "outputs": [],
   "source": [
    "prices = {'p101':37.52, 'p117':56.98, 'p122':43.72, 'p125':48.33, 'p126':52.45}\n",
    "\n",
    "inventory = {\n",
    "'STL':{'p101':520, 'p117':315, 'p125':258, 'p126':345},\n",
    "'CHI':{'p117':864, 'p125':612},\n",
    "'KC':{'p101':264, 'p122':772, 'p125':467}\n",
    "}"
   ]
  },
  {
   "cell_type": "code",
   "execution_count": 11,
   "metadata": {},
   "outputs": [
    {
     "name": "stdout",
     "output_type": "stream",
     "text": [
      "p101: $29415.68\n",
      "p117: $67179.42\n",
      "p122: $33751.84\n",
      "p125: $64617.21\n",
      "p126: $18095.25\n"
     ]
    }
   ],
   "source": [
    "total_inv = {}\n",
    "\n",
    "for h, i in prices.items():  # h is the product ID and i is the product price\n",
    "    total = 0\n",
    "    \n",
    "    for j, k in inventory.items():  #j is the keys of the dictionaries in inventory, k is the values\n",
    "        if h in k:            \n",
    "            total += (k.get(h, 0)) * i \n",
    "            total_inv[h] = total\n",
    "\n",
    "for l, m in total_inv.items():\n",
    "    print(f'{l:<3}: ${m:<4}')"
   ]
  }
 ],
 "metadata": {
  "kernelspec": {
   "display_name": "Python 3",
   "language": "python",
   "name": "python3"
  },
  "language_info": {
   "codemirror_mode": {
    "name": "ipython",
    "version": 3
   },
   "file_extension": ".py",
   "mimetype": "text/x-python",
   "name": "python",
   "nbconvert_exporter": "python",
   "pygments_lexer": "ipython3",
   "version": "3.8.5"
  }
 },
 "nbformat": 4,
 "nbformat_minor": 4
}
