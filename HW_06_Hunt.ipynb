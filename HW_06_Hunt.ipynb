{
 "cells": [
  {
   "cell_type": "markdown",
   "metadata": {},
   "source": [
    "# Homework 06\n",
    "\n",
    "### Paola M Hunt"
   ]
  },
  {
   "cell_type": "code",
   "execution_count": 1,
   "metadata": {},
   "outputs": [],
   "source": [
    "import numpy as np\n",
    "import pandas as pd\n",
    "import matplotlib.pyplot as plt"
   ]
  },
  {
   "cell_type": "markdown",
   "metadata": {},
   "source": [
    "## Problem 1: Working with 2D Arrays"
   ]
  },
  {
   "cell_type": "markdown",
   "metadata": {},
   "source": [
    "In this problem, I will create a randomly generated 5x8 array and then perform some operations on the rows and columns of this array."
   ]
  },
  {
   "cell_type": "code",
   "execution_count": 2,
   "metadata": {},
   "outputs": [
    {
     "name": "stdout",
     "output_type": "stream",
     "text": [
      "[[4.17 7.2  0.   3.02 1.47 0.92 1.86 3.46]\n",
      " [3.97 5.39 4.19 6.85 2.04 8.78 0.27 6.7 ]\n",
      " [4.17 5.59 1.4  1.98 8.01 9.68 3.13 6.92]\n",
      " [8.76 8.95 0.85 0.39 1.7  8.78 0.98 4.21]\n",
      " [9.58 5.33 6.92 3.16 6.87 8.35 0.18 7.5 ]]\n"
     ]
    }
   ],
   "source": [
    "np.random.seed(1)\n",
    "z = np.random.uniform(low =0, high = 10, size= (5,8))\n",
    "z = np.round(z,2)\n",
    "print(z)"
   ]
  },
  {
   "cell_type": "code",
   "execution_count": 3,
   "metadata": {},
   "outputs": [
    {
     "name": "stdout",
     "output_type": "stream",
     "text": [
      "Row 3:     [4.17 5.59 1.4  1.98 8.01 9.68 3.13 6.92] \n",
      "Column 6:  [0.92 8.78 9.68 8.78 8.35]\n"
     ]
    }
   ],
   "source": [
    "# print the 3rd row and 6th column of Z\n",
    "\n",
    "print('Row 3:    ', z[2,:], '\\n'\n",
    "     'Column 6: ', z[:,5]\n",
    "     )"
   ]
  },
  {
   "cell_type": "code",
   "execution_count": 4,
   "metadata": {},
   "outputs": [
    {
     "name": "stdout",
     "output_type": "stream",
     "text": [
      "Row Sums:[22.1  38.19 40.88 34.62 47.89]\n",
      "Column Sums:[30.65 32.46 13.36 15.4  20.09 36.51  6.42 28.79]\n",
      "Array Sum:    183.68\n"
     ]
    }
   ],
   "source": [
    "# use np.sum() to calculate the column sum and row sum for Z and the entire array\n",
    "\n",
    "rsum = np.sum(z, axis = 1)\n",
    "csum = np.sum(z, axis = 0)\n",
    "asum = np.sum(z)\n",
    "\n",
    "print(f'Row Sums:{rsum}\\nColumn Sums:{csum}\\nArray Sum:{asum:>10}')"
   ]
  },
  {
   "cell_type": "markdown",
   "metadata": {},
   "source": [
    "## Problem 2: Reshaping and Stacking Arrays"
   ]
  },
  {
   "cell_type": "markdown",
   "metadata": {},
   "source": [
    "In this problem, I will use stacking and reshaping operations to create a 1000x4 array in which each column is drawn from a normal distribution with different parameters."
   ]
  },
  {
   "cell_type": "code",
   "execution_count": 5,
   "metadata": {},
   "outputs": [
    {
     "name": "stdout",
     "output_type": "stream",
     "text": [
      "(1000, 4)\n"
     ]
    }
   ],
   "source": [
    "np.random.seed(167)\n",
    "\n",
    "# create 4 arrays; each array should be a 1D array with 1000 elements drawn at random from a normal distribution\n",
    "\n",
    "x1 = np.random.normal(loc=50, scale=10, size=1000)\n",
    "x2 = np.random.normal(loc=20, scale=5, size=1000)\n",
    "x3 = np.random.normal(loc=100, scale=30, size=1000)\n",
    "x4 = np.random.normal(loc=10, scale=2, size=1000)\n",
    "\n",
    "# create column arrays\n",
    "x1 = x1.reshape(1000,1)\n",
    "x2 = x2.reshape(1000,1)\n",
    "x3 = x3.reshape(1000,1)\n",
    "x4 = x4.reshape(1000,1)\n",
    "\n",
    "# combine the column arrays into a 1000x4 array named X\n",
    "X = np.hstack((x1,x2,x3,x4))\n",
    "X = np.round(X,2)\n",
    "\n",
    "print(X.shape) #verify the shape"
   ]
  },
  {
   "cell_type": "code",
   "execution_count": 6,
   "metadata": {},
   "outputs": [
    {
     "name": "stdout",
     "output_type": "stream",
     "text": [
      "[[ 37.08  16.71 138.06   8.89]\n",
      " [ 41.32  19.91  99.61   9.86]\n",
      " [ 63.15  14.43  70.08  11.6 ]\n",
      " [ 50.03  12.71  95.05   8.47]\n",
      " [ 55.05  24.4   62.16   9.49]\n",
      " [ 59.24  25.68  64.57  12.84]]\n"
     ]
    }
   ],
   "source": [
    "# print the first six rows of the new array\n",
    "\n",
    "print(X[:6,:])"
   ]
  },
  {
   "cell_type": "markdown",
   "metadata": {},
   "source": [
    "## Problem 3: Standardization"
   ]
  },
  {
   "cell_type": "markdown",
   "metadata": {},
   "source": [
    "In this problem, I used numpy operations to create a scaled version of the array created in Problem 2. In particular, I used standard scaling, where each column is rescaled to have a mean of 0 and a standard deviation of 1."
   ]
  },
  {
   "cell_type": "code",
   "execution_count": 7,
   "metadata": {},
   "outputs": [
    {
     "name": "stdout",
     "output_type": "stream",
     "text": [
      "Column means:                [50.21 19.86 99.84 10.06] \n",
      "Column standard deviations:  [ 9.69  5.08 30.88  2.03]\n"
     ]
    }
   ],
   "source": [
    "# calculate means of columns\n",
    "cmean = np.mean(X, axis = 0)\n",
    "\n",
    "#calculate standard deviation of columns\n",
    "cstd = np.std(X, axis = 0)\n",
    "\n",
    "print('Column means:               ', np.round(cmean,2), \n",
    "      '\\nColumn standard deviations: ', np.round(cstd,2))"
   ]
  },
  {
   "cell_type": "markdown",
   "metadata": {},
   "source": [
    "I will now use the arrays calculated in the previous cell to perform the standardization."
   ]
  },
  {
   "cell_type": "code",
   "execution_count": 8,
   "metadata": {},
   "outputs": [
    {
     "name": "stdout",
     "output_type": "stream",
     "text": [
      "Column means:                [-0.  0.  0.  0.] \n",
      "Column standard deviations:  [1. 1. 1. 1.]\n"
     ]
    }
   ],
   "source": [
    "W = (cmean - X) / cstd\n",
    "Wcmean = np.mean(W, axis = 0)\n",
    "Wcstd = np.std(W, axis = 0)\n",
    "\n",
    "print('Column means:               ', np.round(Wcmean,2), \n",
    "      '\\nColumn standard deviations: ', np.round(Wcstd,2))"
   ]
  },
  {
   "cell_type": "markdown",
   "metadata": {},
   "source": [
    "## Problem 4: Load Auto MPG Dataset"
   ]
  },
  {
   "cell_type": "markdown",
   "metadata": {},
   "source": [
    "The remaining problems in this assignment will involve using pandas to work with the Auto MPG Dataset. This dataset contains information about 398 automobiles manufactured in 1983."
   ]
  },
  {
   "cell_type": "code",
   "execution_count": 9,
   "metadata": {},
   "outputs": [
    {
     "data": {
      "text/html": [
       "<div>\n",
       "<style scoped>\n",
       "    .dataframe tbody tr th:only-of-type {\n",
       "        vertical-align: middle;\n",
       "    }\n",
       "\n",
       "    .dataframe tbody tr th {\n",
       "        vertical-align: top;\n",
       "    }\n",
       "\n",
       "    .dataframe thead th {\n",
       "        text-align: right;\n",
       "    }\n",
       "</style>\n",
       "<table border=\"1\" class=\"dataframe\">\n",
       "  <thead>\n",
       "    <tr style=\"text-align: right;\">\n",
       "      <th></th>\n",
       "      <th>mpg</th>\n",
       "      <th>cyl</th>\n",
       "      <th>wt</th>\n",
       "      <th>region</th>\n",
       "      <th>model</th>\n",
       "    </tr>\n",
       "  </thead>\n",
       "  <tbody>\n",
       "    <tr>\n",
       "      <th>0</th>\n",
       "      <td>27.2</td>\n",
       "      <td>4</td>\n",
       "      <td>3190</td>\n",
       "      <td>eur</td>\n",
       "      <td>peugeot 504</td>\n",
       "    </tr>\n",
       "    <tr>\n",
       "      <th>1</th>\n",
       "      <td>32.8</td>\n",
       "      <td>4</td>\n",
       "      <td>1985</td>\n",
       "      <td>asia</td>\n",
       "      <td>mazda glc deluxe</td>\n",
       "    </tr>\n",
       "    <tr>\n",
       "      <th>2</th>\n",
       "      <td>18.1</td>\n",
       "      <td>6</td>\n",
       "      <td>3410</td>\n",
       "      <td>usa</td>\n",
       "      <td>amc concord d/l</td>\n",
       "    </tr>\n",
       "    <tr>\n",
       "      <th>3</th>\n",
       "      <td>17.5</td>\n",
       "      <td>8</td>\n",
       "      <td>4080</td>\n",
       "      <td>usa</td>\n",
       "      <td>dodge magnum xe</td>\n",
       "    </tr>\n",
       "    <tr>\n",
       "      <th>4</th>\n",
       "      <td>25.4</td>\n",
       "      <td>5</td>\n",
       "      <td>3530</td>\n",
       "      <td>eur</td>\n",
       "      <td>mercedes benz 300d</td>\n",
       "    </tr>\n",
       "    <tr>\n",
       "      <th>5</th>\n",
       "      <td>31.0</td>\n",
       "      <td>4</td>\n",
       "      <td>1773</td>\n",
       "      <td>asia</td>\n",
       "      <td>toyota corolla 1200</td>\n",
       "    </tr>\n",
       "    <tr>\n",
       "      <th>6</th>\n",
       "      <td>27.4</td>\n",
       "      <td>4</td>\n",
       "      <td>2670</td>\n",
       "      <td>usa</td>\n",
       "      <td>amc spirit dl</td>\n",
       "    </tr>\n",
       "    <tr>\n",
       "      <th>7</th>\n",
       "      <td>39.1</td>\n",
       "      <td>4</td>\n",
       "      <td>1755</td>\n",
       "      <td>asia</td>\n",
       "      <td>toyota starlet</td>\n",
       "    </tr>\n",
       "    <tr>\n",
       "      <th>8</th>\n",
       "      <td>34.3</td>\n",
       "      <td>4</td>\n",
       "      <td>2188</td>\n",
       "      <td>eur</td>\n",
       "      <td>audi 4000</td>\n",
       "    </tr>\n",
       "    <tr>\n",
       "      <th>9</th>\n",
       "      <td>30.0</td>\n",
       "      <td>4</td>\n",
       "      <td>2155</td>\n",
       "      <td>usa</td>\n",
       "      <td>buick opel isuzu deluxe</td>\n",
       "    </tr>\n",
       "  </tbody>\n",
       "</table>\n",
       "</div>"
      ],
      "text/plain": [
       "    mpg  cyl    wt region                    model\n",
       "0  27.2    4  3190    eur              peugeot 504\n",
       "1  32.8    4  1985   asia         mazda glc deluxe\n",
       "2  18.1    6  3410    usa          amc concord d/l\n",
       "3  17.5    8  4080    usa          dodge magnum xe\n",
       "4  25.4    5  3530    eur       mercedes benz 300d\n",
       "5  31.0    4  1773   asia      toyota corolla 1200\n",
       "6  27.4    4  2670    usa            amc spirit dl\n",
       "7  39.1    4  1755   asia           toyota starlet\n",
       "8  34.3    4  2188    eur                audi 4000\n",
       "9  30.0    4  2155    usa  buick opel isuzu deluxe"
      ]
     },
     "execution_count": 9,
     "metadata": {},
     "output_type": "execute_result"
    }
   ],
   "source": [
    "# load the contents of this file into a pandas DataFrame named auto. \n",
    "auto = pd.read_table('data/auto_mpg.txt', sep='\\t')\n",
    "\n",
    "# display the first 10 rows of this data frame\n",
    "auto.head(10)"
   ]
  },
  {
   "cell_type": "code",
   "execution_count": 10,
   "metadata": {},
   "outputs": [
    {
     "name": "stdout",
     "output_type": "stream",
     "text": [
      "(398, 5)\n"
     ]
    }
   ],
   "source": [
    "# Print the shape of the auto DataFrame\n",
    "print(auto.shape)"
   ]
  },
  {
   "cell_type": "code",
   "execution_count": 11,
   "metadata": {},
   "outputs": [
    {
     "data": {
      "text/plain": [
       "mpg      23.514573\n",
       "cyl       5.454774\n",
       "wt     2970.424623\n",
       "dtype: float64"
      ]
     },
     "execution_count": 11,
     "metadata": {},
     "output_type": "execute_result"
    }
   ],
   "source": [
    "# use the mean() method of auto and print the results\n",
    "\n",
    "auto.mean()"
   ]
  },
  {
   "cell_type": "markdown",
   "metadata": {},
   "source": [
    "## Problem 5: Regional Counts and Means"
   ]
  },
  {
   "cell_type": "markdown",
   "metadata": {},
   "source": [
    "In this problem, I will calculate the number of observations associated with each region, as well as regional means for mpg, cyl, and wt."
   ]
  },
  {
   "cell_type": "code",
   "execution_count": 12,
   "metadata": {},
   "outputs": [
    {
     "name": "stdout",
     "output_type": "stream",
     "text": [
      "['asia' 'eur' 'usa']\n"
     ]
    }
   ],
   "source": [
    "# Use np.unique() to obtain an array of unique values appearing in the region column of auto\n",
    "\n",
    "regions = np.unique(auto.region)\n",
    "print(regions)\n"
   ]
  },
  {
   "cell_type": "markdown",
   "metadata": {},
   "source": [
    "I will now determine the number of cars manufactured in each of the three regions."
   ]
  },
  {
   "cell_type": "code",
   "execution_count": 13,
   "metadata": {},
   "outputs": [
    {
     "name": "stdout",
     "output_type": "stream",
     "text": [
      "Number of cars manufactured in Asia:    79 \n",
      "Number of cars manufactured in Europe:  70 \n",
      "Number of cars manufactured in USA:     249\n"
     ]
    }
   ],
   "source": [
    "# Use boolean masking to create three new DataFrames\n",
    "\n",
    "asel = auto.loc[0:,'region'] == 'asia'\n",
    "asia_auto = pd.DataFrame(auto.loc[asel,:])\n",
    "\n",
    "esel = auto.loc[0:,'region'] == 'eur'\n",
    "eur_auto = pd.DataFrame(auto.loc[esel,:])\n",
    "\n",
    "usel = auto.loc[0:,'region'] == 'usa'\n",
    "usa_auto = pd.DataFrame(auto.loc[usel,:])\n",
    "\n",
    "# determine the number of rows in each of the new DataFrames\n",
    "\n",
    "print('Number of cars manufactured in Asia:   ', len(asia_auto),\n",
    "      '\\nNumber of cars manufactured in Europe: ',len(eur_auto),\n",
    "      '\\nNumber of cars manufactured in USA:    ',len(usa_auto)\n",
    "     )\n"
   ]
  },
  {
   "cell_type": "markdown",
   "metadata": {},
   "source": [
    "I will now determine the average mpg, weight, and number of cylinders for each region."
   ]
  },
  {
   "cell_type": "code",
   "execution_count": 14,
   "metadata": {},
   "outputs": [
    {
     "data": {
      "text/html": [
       "<div>\n",
       "<style scoped>\n",
       "    .dataframe tbody tr th:only-of-type {\n",
       "        vertical-align: middle;\n",
       "    }\n",
       "\n",
       "    .dataframe tbody tr th {\n",
       "        vertical-align: top;\n",
       "    }\n",
       "\n",
       "    .dataframe thead th {\n",
       "        text-align: right;\n",
       "    }\n",
       "</style>\n",
       "<table border=\"1\" class=\"dataframe\">\n",
       "  <thead>\n",
       "    <tr style=\"text-align: right;\">\n",
       "      <th></th>\n",
       "      <th>mpg</th>\n",
       "      <th>cyl</th>\n",
       "      <th>wt</th>\n",
       "    </tr>\n",
       "  </thead>\n",
       "  <tbody>\n",
       "    <tr>\n",
       "      <th>asia</th>\n",
       "      <td>30.450633</td>\n",
       "      <td>4.101266</td>\n",
       "      <td>2221.227848</td>\n",
       "    </tr>\n",
       "    <tr>\n",
       "      <th>eur</th>\n",
       "      <td>27.891429</td>\n",
       "      <td>4.157143</td>\n",
       "      <td>2423.300000</td>\n",
       "    </tr>\n",
       "    <tr>\n",
       "      <th>usa</th>\n",
       "      <td>20.083534</td>\n",
       "      <td>6.248996</td>\n",
       "      <td>3361.931727</td>\n",
       "    </tr>\n",
       "  </tbody>\n",
       "</table>\n",
       "</div>"
      ],
      "text/plain": [
       "            mpg       cyl           wt\n",
       "asia  30.450633  4.101266  2221.227848\n",
       "eur   27.891429  4.157143  2423.300000\n",
       "usa   20.083534  6.248996  3361.931727"
      ]
     },
     "execution_count": 14,
     "metadata": {},
     "output_type": "execute_result"
    }
   ],
   "source": [
    "asia_means = np.array([(asia_auto.loc[:,'mpg'].mean()), \n",
    "                       (asia_auto.loc[:,'cyl'].mean()), \n",
    "                       (asia_auto.loc[:,'wt'].mean())]\n",
    "                     )\n",
    "eur_means = np.array([(eur_auto.loc[:,'mpg'].mean()), \n",
    "                      (eur_auto.loc[:,'cyl'].mean()), \n",
    "                      (eur_auto.loc[:,'wt'].mean())]\n",
    "                    )\n",
    "usa_means = np.array([(usa_auto.loc[:,'mpg'].mean()), \n",
    "                      (usa_auto.loc[:,'cyl'].mean()), \n",
    "                      (usa_auto.loc[:,'wt'].mean())]\n",
    "                    )\n",
    "\n",
    "means_df = pd.DataFrame(data = [asia_means, \n",
    "                                eur_means, \n",
    "                                usa_means\n",
    "                               ],\n",
    "                        index = regions,\n",
    "                        columns = ['mpg', 'cyl', 'wt']\n",
    "                       )\n",
    "means_df.head()"
   ]
  },
  {
   "cell_type": "markdown",
   "metadata": {},
   "source": [
    "## Problem 6: Average Weight and MPG by Region"
   ]
  },
  {
   "cell_type": "markdown",
   "metadata": {},
   "source": [
    "In this problem, I will visually represent the results for MPG and weight from Problem 5 in the form of bar plots."
   ]
  },
  {
   "cell_type": "code",
   "execution_count": 15,
   "metadata": {},
   "outputs": [
    {
     "data": {
      "image/png": "[encoded data removed]",
      "text/plain": [
       "<Figure size 576x288 with 2 Axes>"
      ]
     },
     "metadata": {
      "needs_background": "light"
     },
     "output_type": "display_data"
    }
   ],
   "source": [
    "colors1 = ['orange', 'blue', 'red']\n",
    "labels = regions\n",
    "\n",
    "plt.figure(figsize=[8,4])\n",
    "plt.subplot(1, 2, 1)\n",
    "plt.bar(x=labels, height=means_df['mpg'], color= colors1, edgecolor='black')\n",
    "plt.title('Average MPG by Region')\n",
    "plt.xlabel('Region')\n",
    "plt.ylabel('Average MPG')\n",
    "\n",
    "plt.subplot(1, 2, 2)\n",
    "plt.bar(x=labels, height=means_df['wt'], color= colors1, edgecolor='black')\n",
    "plt.title('Average Weight by Region')\n",
    "plt.xlabel('Region')\n",
    "plt.ylabel('Average Weight in Pounds')\n",
    "\n",
    "plt.tight_layout()\n",
    "plt.show()"
   ]
  },
  {
   "cell_type": "markdown",
   "metadata": {},
   "source": [
    "## Problem 7: Relationship between Weight and Miles Per Gallon"
   ]
  },
  {
   "cell_type": "markdown",
   "metadata": {},
   "source": [
    "In this problem, I will create a scatter plot for each region displaying the relationship between MPG and weight for vehicles manufactured in each region."
   ]
  },
  {
   "cell_type": "code",
   "execution_count": 16,
   "metadata": {},
   "outputs": [
    {
     "data": {
      "image/png": "[encoded data removed]",
      "text/plain": [
       "<Figure size 864x288 with 3 Axes>"
      ]
     },
     "metadata": {
      "needs_background": "light"
     },
     "output_type": "display_data"
    }
   ],
   "source": [
    "plt.figure(figsize=[12,4])\n",
    "\n",
    "for i in range(0, len(regions)):\n",
    "\n",
    "    plt.subplot(1,3,i+1)\n",
    "    \n",
    "    current_region = regions[i]\n",
    "    wtsel = auto.wt[auto.region==current_region]\n",
    "    mpgsel = auto.mpg[auto.region==current_region]\n",
    "    \n",
    "    \n",
    "    plt.scatter(x=wtsel, y=mpgsel, alpha=0.8, color=colors1[i], edgecolor='black')\n",
    "    \n",
    "    plt.xlim([1200, 5000])\n",
    "    plt.ylim([0, 50])\n",
    "    plt.xlabel('Weight in Pounds')\n",
    "    plt.ylabel('Miles per Gallon')\n",
    "    plt.title('Weight vs MPG (' + regions[i].title()+ ')')\n",
    "\n",
    "plt.tight_layout()\n",
    "plt.show()"
   ]
  },
  {
   "cell_type": "markdown",
   "metadata": {},
   "source": [
    "## Problem 8: Cylinder Distribution by Region"
   ]
  },
  {
   "cell_type": "markdown",
   "metadata": {},
   "source": [
    "In this problem, I will create a stacked bar chart displaying the distribution of the number of cylinders in vehicles manufactured in each region."
   ]
  },
  {
   "cell_type": "code",
   "execution_count": 17,
   "metadata": {},
   "outputs": [
    {
     "name": "stdout",
     "output_type": "stream",
     "text": [
      "[3 4 5 6 8]\n"
     ]
    }
   ],
   "source": [
    "cyl_values = np.unique(auto.cyl) # create a list of unique cylinder values\n",
    "print(cyl_values)"
   ]
  },
  {
   "cell_type": "code",
   "execution_count": 18,
   "metadata": {},
   "outputs": [
    {
     "data": {
      "text/html": [
       "<div>\n",
       "<style scoped>\n",
       "    .dataframe tbody tr th:only-of-type {\n",
       "        vertical-align: middle;\n",
       "    }\n",
       "\n",
       "    .dataframe tbody tr th {\n",
       "        vertical-align: top;\n",
       "    }\n",
       "\n",
       "    .dataframe thead th {\n",
       "        text-align: right;\n",
       "    }\n",
       "</style>\n",
       "<table border=\"1\" class=\"dataframe\">\n",
       "  <thead>\n",
       "    <tr style=\"text-align: right;\">\n",
       "      <th>region</th>\n",
       "      <th>asia</th>\n",
       "      <th>eur</th>\n",
       "      <th>usa</th>\n",
       "    </tr>\n",
       "    <tr>\n",
       "      <th>cyl</th>\n",
       "      <th></th>\n",
       "      <th></th>\n",
       "      <th></th>\n",
       "    </tr>\n",
       "  </thead>\n",
       "  <tbody>\n",
       "    <tr>\n",
       "      <th>3</th>\n",
       "      <td>4</td>\n",
       "      <td>0</td>\n",
       "      <td>0</td>\n",
       "    </tr>\n",
       "    <tr>\n",
       "      <th>4</th>\n",
       "      <td>69</td>\n",
       "      <td>63</td>\n",
       "      <td>72</td>\n",
       "    </tr>\n",
       "    <tr>\n",
       "      <th>5</th>\n",
       "      <td>0</td>\n",
       "      <td>3</td>\n",
       "      <td>0</td>\n",
       "    </tr>\n",
       "    <tr>\n",
       "      <th>6</th>\n",
       "      <td>6</td>\n",
       "      <td>4</td>\n",
       "      <td>74</td>\n",
       "    </tr>\n",
       "    <tr>\n",
       "      <th>8</th>\n",
       "      <td>0</td>\n",
       "      <td>0</td>\n",
       "      <td>103</td>\n",
       "    </tr>\n",
       "  </tbody>\n",
       "</table>\n",
       "</div>"
      ],
      "text/plain": [
       "region  asia  eur  usa\n",
       "cyl                   \n",
       "3          4    0    0\n",
       "4         69   63   72\n",
       "5          0    3    0\n",
       "6          6    4   74\n",
       "8          0    0  103"
      ]
     },
     "execution_count": 18,
     "metadata": {},
     "output_type": "execute_result"
    }
   ],
   "source": [
    "# create a DataFrame with one row for each value of cyl and one column for each value of region\n",
    "\n",
    "cyl_counts_by_region = pd.crosstab(auto.cyl, auto.region)\n",
    "cyl_counts_by_region = pd.DataFrame(cyl_counts_by_region)\n",
    "\n",
    "cyl_counts_by_region.head()"
   ]
  },
  {
   "cell_type": "code",
   "execution_count": 19,
   "metadata": {},
   "outputs": [
    {
     "data": {
      "image/png": "[encoded data removed]",
      "text/plain": [
       "<Figure size 432x288 with 1 Axes>"
      ]
     },
     "metadata": {
      "needs_background": "light"
     },
     "output_type": "display_data"
    }
   ],
   "source": [
    "# convert the count information into proportions\n",
    "cyl_props_by_region = pd.DataFrame(cyl_counts_by_region / np.sum(cyl_counts_by_region))\n",
    "\n",
    "#calculate bottom of the bars for the stacked chart\n",
    "bar_bottoms = (np.cumsum(cyl_props_by_region) - cyl_props_by_region)\n",
    "\n",
    "\n",
    "\n",
    "colors2 = ['magenta', 'lightsalmon', 'lime', 'cyan', 'yellow']\n",
    "labels = regions\n",
    "\n",
    "plt.figure(figsize=[6,4])\n",
    "\n",
    "for index in range(len(cyl_props_by_region.iloc[:])):\n",
    "    height = cyl_props_by_region.iloc[index]\n",
    "    plt.bar(labels, height, label=cyl_values[index], color=colors2[index], edgecolor='black', bottom = bar_bottoms.iloc[index])\n",
    "    \n",
    "plt.legend(bbox_to_anchor=(1.00, 1.0))\n",
    "plt.xlabel('Region')\n",
    "plt.ylabel('Proportion')\n",
    "plt.title('Distribution of Cylinder Numbers by Region')\n",
    "plt.show()\n",
    "    "
   ]
  }
 ],
 "metadata": {
  "kernelspec": {
   "display_name": "Python 3",
   "language": "python",
   "name": "python3"
  },
  "language_info": {
   "codemirror_mode": {
    "name": "ipython",
    "version": 3
   },
   "file_extension": ".py",
   "mimetype": "text/x-python",
   "name": "python",
   "nbconvert_exporter": "python",
   "pygments_lexer": "ipython3",
   "version": "3.8.5"
  }
 },
 "nbformat": 4,
 "nbformat_minor": 4
}
